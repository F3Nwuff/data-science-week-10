{
 "cells": [
  {
   "cell_type": "code",
   "execution_count": 153,
   "id": "0782df9a-3630-4aa9-94d0-2d326dfd2556",
   "metadata": {},
   "outputs": [],
   "source": [
    "import pandas as pd\n",
    "from math import sqrt\n",
    "import numpy as np"
   ]
  },
  {
   "cell_type": "code",
   "execution_count": 154,
   "id": "5db8a813-b929-41d8-8b0e-133eb3263cca",
   "metadata": {},
   "outputs": [
    {
     "name": "stdout",
     "output_type": "stream",
     "text": [
      "<class 'pandas.core.frame.DataFrame'>\n",
      "RangeIndex: 9742 entries, 0 to 9741\n",
      "Data columns (total 3 columns):\n",
      " #   Column   Non-Null Count  Dtype \n",
      "---  ------   --------------  ----- \n",
      " 0   movieId  9742 non-null   int64 \n",
      " 1   title    9742 non-null   object\n",
      " 2   genres   9742 non-null   object\n",
      "dtypes: int64(1), object(2)\n",
      "memory usage: 228.5+ KB\n",
      "None\n",
      "<class 'pandas.core.frame.DataFrame'>\n",
      "RangeIndex: 100836 entries, 0 to 100835\n",
      "Data columns (total 4 columns):\n",
      " #   Column     Non-Null Count   Dtype  \n",
      "---  ------     --------------   -----  \n",
      " 0   userId     100836 non-null  int64  \n",
      " 1   movieId    100836 non-null  int64  \n",
      " 2   rating     100836 non-null  float64\n",
      " 3   timestamp  100836 non-null  int64  \n",
      "dtypes: float64(1), int64(3)\n",
      "memory usage: 3.1 MB\n",
      "None\n",
      "<class 'pandas.core.frame.DataFrame'>\n",
      "RangeIndex: 3683 entries, 0 to 3682\n",
      "Data columns (total 4 columns):\n",
      " #   Column     Non-Null Count  Dtype \n",
      "---  ------     --------------  ----- \n",
      " 0   userId     3683 non-null   int64 \n",
      " 1   movieId    3683 non-null   int64 \n",
      " 2   tag        3683 non-null   object\n",
      " 3   timestamp  3683 non-null   int64 \n",
      "dtypes: int64(3), object(1)\n",
      "memory usage: 115.2+ KB\n",
      "None\n"
     ]
    }
   ],
   "source": [
    "movies_df = pd.read_csv('data2/movies.csv')\n",
    "ratings_df = pd.read_csv('data2/ratings.csv')\n",
    "tags_df = pd.read_csv('data2/tags.csv')\n",
    "print(movies_df.info())\n",
    "print(ratings_df.info())\n",
    "print(tags_df.info())"
   ]
  },
  {
   "cell_type": "code",
   "execution_count": 155,
   "id": "eb84c57f-472a-44a6-9381-d2ff7e459a97",
   "metadata": {},
   "outputs": [
    {
     "name": "stdout",
     "output_type": "stream",
     "text": [
      "                                   title  rating\n",
      "0                         Jumanji (1995)     3.0\n",
      "1                         Sabrina (1995)     3.5\n",
      "2  Ace Ventura: When Nature Calls (1995)     4.0\n",
      "3                        Clueless (1995)     4.5\n",
      "4                   Mortal Kombat (1995)     4.0\n"
     ]
    }
   ],
   "source": [
    "userInput = [{'title':'Jumanji (1995)', 'rating':3},\n",
    "             {'title':'Sabrina (1995)','rating':3.5},\n",
    "             {'title':'Ace Ventura: When Nature Calls (1995)','rating':4},\n",
    "             {'title':'Clueless (1995)','rating':4.5},\n",
    "             {'title':'Mortal Kombat (1995)','rating':4}]\n",
    "inputMovies = pd.DataFrame(userInput)\n",
    "print(inputMovies)"
   ]
  },
  {
   "cell_type": "code",
   "execution_count": 156,
   "id": "bdf1ed95-d0f6-41db-93b6-428725a430ca",
   "metadata": {},
   "outputs": [
    {
     "name": "stdout",
     "output_type": "stream",
     "text": [
      "   movieId                                  title  rating\n",
      "0        2                         Jumanji (1995)     3.0\n",
      "1        7                         Sabrina (1995)     3.5\n",
      "2       19  Ace Ventura: When Nature Calls (1995)     4.0\n",
      "3       39                        Clueless (1995)     4.5\n",
      "4       44                   Mortal Kombat (1995)     4.0\n"
     ]
    }
   ],
   "source": [
    "inputId = movies_df[movies_df['title'].isin(inputMovies['title'].tolist())]\n",
    "inputMovies = pd.merge(inputId, inputMovies)\n",
    "inputMovies = inputMovies[['movieId','title','rating']]\n",
    "print(inputMovies)"
   ]
  },
  {
   "cell_type": "code",
   "execution_count": 157,
   "id": "f480195a-4cb8-4646-8504-2ff621ccc04d",
   "metadata": {},
   "outputs": [
    {
     "name": "stdout",
     "output_type": "stream",
     "text": [
      "         userId  rating  timestamp\n",
      "movieId                           \n",
      "2           110     110        110\n",
      "7            54      54         54\n",
      "19           88      88         88\n",
      "39          104     104        104\n",
      "44           46      46         46\n"
     ]
    }
   ],
   "source": [
    "userSubset = ratings_df[ratings_df['movieId'].isin(inputMovies['movieId'].tolist())]\n",
    "print(userSubset.groupby('movieId').count())"
   ]
  },
  {
   "cell_type": "code",
   "execution_count": 158,
   "id": "c2b0d7d5-3ecd-44a0-a5ad-1a373668a70f",
   "metadata": {},
   "outputs": [
    {
     "name": "stdout",
     "output_type": "stream",
     "text": [
      "[((68,),        userId  movieId  rating   timestamp\n",
      "10361      68        2     2.5  1158532776\n",
      "10365      68        7     2.0  1230498124\n",
      "10371      68       19     1.5  1158532448\n",
      "10376      68       39     4.0  1158532000\n",
      "10377      68       44     3.0  1158534993), ((117,),        userId  movieId  rating  timestamp\n",
      "18349     117        2     3.0  844163002\n",
      "18353     117        7     4.0  844163615\n",
      "18357     117       19     2.0  844162892\n",
      "18364     117       39     3.0  844162955\n",
      "18366     117       44     2.0  844163037), ((599,),        userId  movieId  rating   timestamp\n",
      "92624     599        2     2.5  1498514085\n",
      "92627     599        7     2.5  1498514161\n",
      "92636     599       19     3.0  1498524930\n",
      "92645     599       39     3.0  1498525783\n",
      "92649     599       44     2.5  1498517161), ((19,),       userId  movieId  rating  timestamp\n",
      "2275      19        2     3.0  965704331\n",
      "2277      19        7     2.0  965706657\n",
      "2282      19       19     2.0  965708339\n",
      "2285      19       44     3.0  965710019), ((58,),       userId  movieId  rating  timestamp\n",
      "8513      58        7     5.0  847719397\n",
      "8514      58       19     1.0  847718718\n",
      "8520      58       39     5.0  847718745\n",
      "8521      58       44     2.0  847718960)]\n"
     ]
    }
   ],
   "source": [
    "#Groupby creates several sub dataframes where they all have the same value in the column specified as the parameter\n",
    "userSubsetGroup = userSubset.groupby(['userId'])\n",
    "\n",
    "def take_5_elem(x):\n",
    "    # print (len(x[1]))\n",
    "    return len(x[1])\n",
    "    \n",
    "\n",
    "#Sorting it so users with movie most in common with the input will have priority\n",
    "userSubsetGroup = sorted(userSubsetGroup, key=take_5_elem, reverse=True)\n",
    "\n",
    "userSubsetGroup = userSubsetGroup[0:100]\n",
    "print(userSubsetGroup[0:5])"
   ]
  },
  {
   "cell_type": "code",
   "execution_count": 159,
   "id": "db950db8-5ae8-419f-bf2c-e4c769ac97e3",
   "metadata": {},
   "outputs": [],
   "source": [
    "#Store the Pearson Correlation in a dictionary, where the key is the user Id and the value is the coefficient\n",
    "pearsonCorrelationDict = {}\n",
    "\n",
    "#For every user group in our subset\n",
    "for name, group in userSubsetGroup:\n",
    "\n",
    "    #Let's start by sorting the input and current user group so the values aren't mixed up later on\n",
    "    group = group.sort_values(by='movieId')\n",
    "    inputMovies = inputMovies.sort_values(by='movieId')\n",
    "\n",
    "    #Get the N for the formula\n",
    "    nRatings = len(group)\n",
    "\n",
    "    #Get the review scores for the movies that they both have in common\n",
    "    temp_df = inputMovies[inputMovies['movieId'].isin(group['movieId'].tolist())]\n",
    "\n",
    "    #And then store them in a temporary buffer variable in a list format to facilitate future calculations\n",
    "    tempRatingList = temp_df['rating'].tolist()\n",
    "   \n",
    "    #Let's also put the current user group reviews in a list format\n",
    "    tempGroupList = group['rating'].tolist()\n",
    "   \n",
    "    \n",
    "    #Now let's calculate the pearson correlation between two users, so called, x and y manually (check the formula from week 7 slide)\n",
    "    Sxx = sum([i**2 for i in tempRatingList]) - pow(sum(tempRatingList),2)/float(nRatings)\n",
    "    Syy = sum([i**2 for i in tempGroupList]) - pow(sum(tempGroupList),2)/float(nRatings)\n",
    "    Sxy = sum( i*j for i, j in zip(tempRatingList, tempGroupList)) - sum(tempRatingList)*sum(tempGroupList)/float(nRatings)\n",
    "\n",
    "    #If the denominator is different than zero, then divide, else, 0 correlation.\n",
    "    if Sxx != 0 and Syy != 0:\n",
    "        pearsonCorrelationDict[name] = Sxy/sqrt(Sxx*Syy)\n",
    "    else:\n",
    "        pearsonCorrelationDict[name] = 0\n",
    "    "
   ]
  },
  {
   "cell_type": "code",
   "execution_count": 160,
   "id": "84d48fee-0781-4ae8-aa6d-333486c91024",
   "metadata": {},
   "outputs": [
    {
     "name": "stdout",
     "output_type": "stream",
     "text": [
      "   similarityIndex  userId\n",
      "0         0.501557      68\n",
      "1        -0.366900     117\n",
      "2         0.720577     599\n",
      "3        -0.301511      19\n",
      "4         0.000000      58\n"
     ]
    }
   ],
   "source": [
    "pearsonDF = pd.DataFrame.from_dict(pearsonCorrelationDict, orient='index')\n",
    "pearsonDF.columns = ['similarityIndex']\n",
    "pearsonDF['userId'] = pearsonDF.index\n",
    "pearsonDF['userId'] = pearsonDF['userId'].apply(lambda x: int(str(x)[1:-2]))\n",
    "pearsonDF.index = range(len(pearsonDF))\n",
    "print(pearsonDF.head())"
   ]
  },
  {
   "cell_type": "code",
   "execution_count": 161,
   "id": "26c15e1c-6b3a-4939-9a2a-d67ee4b02188",
   "metadata": {},
   "outputs": [
    {
     "name": "stdout",
     "output_type": "stream",
     "text": [
      "    similarityIndex  userId\n",
      "28              1.0     274\n",
      "82              1.0     434\n",
      "67              1.0     230\n",
      "66              1.0     222\n",
      "64              1.0     200\n"
     ]
    }
   ],
   "source": [
    "topUsers=pearsonDF.sort_values(by='similarityIndex', ascending=False)[0:50]\n",
    "print(topUsers.head())"
   ]
  },
  {
   "cell_type": "code",
   "execution_count": 162,
   "id": "fcdf2db6-9df8-4ac3-b74f-adb0a19b52d4",
   "metadata": {},
   "outputs": [
    {
     "name": "stdout",
     "output_type": "stream",
     "text": [
      "int64\n",
      "int64\n"
     ]
    }
   ],
   "source": [
    "print(topUsers['userId'].dtype)\n",
    "print(ratings_df['userId'].dtype)"
   ]
  },
  {
   "cell_type": "code",
   "execution_count": 163,
   "id": "fdcb4523-48ac-4d5f-8db2-7150e3cbcaba",
   "metadata": {},
   "outputs": [
    {
     "name": "stdout",
     "output_type": "stream",
     "text": [
      "    similarityIndex  userId  movieId  rating   timestamp\n",
      "0               1.0     274        1     4.0  1171410158\n",
      "1               1.0     274        2     3.5  1171934785\n",
      "2               1.0     274        6     4.0  1197022122\n",
      "3               1.0     274        8     3.0  1172030892\n",
      "4               1.0     274       10     4.0  1171428459\n",
      "..              ...     ...      ...     ...         ...\n",
      "95              1.0     274      520     3.5  1171943669\n",
      "96              1.0     274      527     4.0  1171758666\n",
      "97              1.0     274      541     2.5  1171409458\n",
      "98              1.0     274      542     3.5  1172023905\n",
      "99              1.0     274      543     2.5  1171511510\n",
      "\n",
      "[100 rows x 5 columns]\n"
     ]
    }
   ],
   "source": [
    "topUsersRating=topUsers.merge(ratings_df, left_on='userId', right_on='userId', how='inner')\n",
    "print(topUsersRating.head(100))"
   ]
  },
  {
   "cell_type": "code",
   "execution_count": 164,
   "id": "87a2556e-9779-4af6-8443-747b9bc12734",
   "metadata": {},
   "outputs": [
    {
     "name": "stdout",
     "output_type": "stream",
     "text": [
      "   similarityIndex  userId  movieId  rating   timestamp  weightedRating\n",
      "0              1.0     274        1     4.0  1171410158             4.0\n",
      "1              1.0     274        2     3.5  1171934785             3.5\n",
      "2              1.0     274        6     4.0  1197022122             4.0\n",
      "3              1.0     274        8     3.0  1172030892             3.0\n",
      "4              1.0     274       10     4.0  1171428459             4.0\n"
     ]
    }
   ],
   "source": [
    "#Multiplies the similarity by the user’s ratings\n",
    "topUsersRating['weightedRating'] = topUsersRating['similarityIndex']*topUsersRating['rating']\n",
    "print(topUsersRating.head())"
   ]
  },
  {
   "cell_type": "code",
   "execution_count": 165,
   "id": "3f2021bd-c537-450c-8ca1-365e8a8330c1",
   "metadata": {},
   "outputs": [
    {
     "name": "stdout",
     "output_type": "stream",
     "text": [
      "         sum_similarityIndex  sum_weightedRating\n",
      "movieId                                         \n",
      "1                  14.251271           55.315059\n",
      "2                  15.590638           44.625323\n",
      "3                   3.992649           13.101590\n",
      "4                   0.000000            0.000000\n",
      "5                   4.849028           13.170512\n"
     ]
    }
   ],
   "source": [
    "#Applies a sum to the topUsers after grouping it up by movieId\n",
    "tempTopUsersRating = topUsersRating.groupby('movieId').sum()[['similarityIndex','weightedRating']]\n",
    "tempTopUsersRating.columns = ['sum_similarityIndex','sum_weightedRating']\n",
    "print(tempTopUsersRating.head())"
   ]
  },
  {
   "cell_type": "code",
   "execution_count": 166,
   "id": "2e6f5f51-1331-4d88-a7d0-a2cd5a5e0ea4",
   "metadata": {},
   "outputs": [
    {
     "name": "stdout",
     "output_type": "stream",
     "text": [
      "         weighted average recommendation score  movieId\n",
      "movieId                                                \n",
      "1                                     3.881412        1\n",
      "2                                     2.862315        2\n",
      "3                                     3.281428        3\n",
      "4                                          NaN        4\n",
      "5                                     2.716114        5\n",
      "6                                     3.728473        6\n",
      "7                                     2.626354        7\n",
      "8                                     3.000000        8\n",
      "9                                     1.500000        9\n",
      "10                                    3.496012       10\n"
     ]
    }
   ],
   "source": [
    "#Creates an empty dataframe\n",
    "recommendation_df = pd.DataFrame()\n",
    "\n",
    "#Now we take the weighted average\n",
    "recommendation_df['weighted average recommendation score'] = tempTopUsersRating['sum_weightedRating']/tempTopUsersRating['sum_similarityIndex']\n",
    "recommendation_df['movieId'] = tempTopUsersRating.index\n",
    "print(recommendation_df.head(10))"
   ]
  },
  {
   "cell_type": "code",
   "execution_count": 167,
   "id": "1c078f13-4fbd-4c42-9d8a-8f32ff4eb1ff",
   "metadata": {},
   "outputs": [
    {
     "name": "stdout",
     "output_type": "stream",
     "text": [
      "         weighted average recommendation score  movieId\n",
      "movieId                                                \n",
      "5292                                       5.0     5292\n",
      "1238                                       5.0     1238\n",
      "26528                                      5.0    26528\n",
      "93008                                      5.0    93008\n",
      "93320                                      5.0    93320\n",
      "...                                        ...      ...\n",
      "182715                                     NaN   182715\n",
      "184245                                     NaN   184245\n",
      "188675                                     NaN   188675\n",
      "188833                                     NaN   188833\n",
      "189381                                     NaN   189381\n",
      "\n",
      "[6085 rows x 2 columns]\n"
     ]
    }
   ],
   "source": [
    "recommendation_df = recommendation_df.sort_values(by='weighted average recommendation score', ascending=False)\n",
    "print(recommendation_df)"
   ]
  },
  {
   "cell_type": "code",
   "execution_count": 168,
   "id": "680a1bfd-0268-4ab7-a88d-68c7e3fff28b",
   "metadata": {},
   "outputs": [
    {
     "name": "stdout",
     "output_type": "stream",
     "text": [
      "      movieId                                      title  \\\n",
      "0           1                           Toy Story (1995)   \n",
      "2           3                    Grumpier Old Men (1995)   \n",
      "3           4                   Waiting to Exhale (1995)   \n",
      "4           5         Father of the Bride Part II (1995)   \n",
      "5           6                                Heat (1995)   \n",
      "...       ...                                        ...   \n",
      "9695   184791  Fred Armisen: Standup for Drummers (2018)   \n",
      "9710   187595             Solo: A Star Wars Story (2018)   \n",
      "9714   188675                              Dogman (2018)   \n",
      "9717   188833      The Man Who Killed Don Quixote (2018)   \n",
      "9721   189381                            SuperFly (2018)   \n",
      "\n",
      "                                           genres  \n",
      "0     Adventure|Animation|Children|Comedy|Fantasy  \n",
      "2                                  Comedy|Romance  \n",
      "3                            Comedy|Drama|Romance  \n",
      "4                                          Comedy  \n",
      "5                           Action|Crime|Thriller  \n",
      "...                                           ...  \n",
      "9695                                       Comedy  \n",
      "9710             Action|Adventure|Children|Sci-Fi  \n",
      "9714                                  Crime|Drama  \n",
      "9717                     Adventure|Comedy|Fantasy  \n",
      "9721                        Action|Crime|Thriller  \n",
      "\n",
      "[6080 rows x 3 columns]\n"
     ]
    }
   ],
   "source": [
    "recommended_movie=movies_df.loc[movies_df['movieId'].isin(recommendation_df['movieId'])]\n",
    "\n",
    "#we don't want to recommend the same movie\n",
    "recommended_movie=recommended_movie.loc[~recommended_movie.movieId.isin(userSubset['movieId'])]\n",
    "\n",
    "print(recommended_movie)"
   ]
  },
  {
   "cell_type": "code",
   "execution_count": null,
   "id": "df0adc79-b1b2-4bcf-8a92-f293c0bd8c85",
   "metadata": {},
   "outputs": [],
   "source": []
  }
 ],
 "metadata": {
  "kernelspec": {
   "display_name": "Python 3 (ipykernel)",
   "language": "python",
   "name": "python3"
  },
  "language_info": {
   "codemirror_mode": {
    "name": "ipython",
    "version": 3
   },
   "file_extension": ".py",
   "mimetype": "text/x-python",
   "name": "python",
   "nbconvert_exporter": "python",
   "pygments_lexer": "ipython3",
   "version": "3.10.7"
  }
 },
 "nbformat": 4,
 "nbformat_minor": 5
}
